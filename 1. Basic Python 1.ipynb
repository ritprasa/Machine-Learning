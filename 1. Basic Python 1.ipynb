{
 "cells": [
  {
   "cell_type": "markdown",
   "metadata": {},
   "source": [
    "In This Notebook ,I am going to explain basic Python concepts with example."
   ]
  },
  {
   "cell_type": "markdown",
   "metadata": {},
   "source": [
    "**1.1: Numbers:   \n",
    "                Number can be any interger ,float or complex number.**"
   ]
  },
  {
   "cell_type": "code",
   "execution_count": 1,
   "metadata": {},
   "outputs": [
    {
     "name": "stdout",
     "output_type": "stream",
     "text": [
      "Type of variable 5  is   <class 'int'>\n",
      "Type of variable 5.0  is   <class 'float'>\n",
      "Type of variable (5+3j)  is   <class 'complex'>\n"
     ]
    }
   ],
   "source": [
    "a=5\n",
    "print(\"Type of variable {}  is  \".format(a),type(a))  # variable can be  integer/Float/Complex number and using type function we can check it.\n",
    "b=5.0\n",
    "print(\"Type of variable {}  is  \".format(b),type(b))\n",
    "c=5+3j\n",
    "print(\"Type of variable {}  is  \".format(c),type(c))"
   ]
  },
  {
   "cell_type": "markdown",
   "metadata": {},
   "source": [
    "**1.2: Strings:    \n",
    "Sequence of character represented with ' '(single quotes) or \" \"(double quotes).**"
   ]
  },
  {
   "cell_type": "code",
   "execution_count": 2,
   "metadata": {},
   "outputs": [
    {
     "name": "stdout",
     "output_type": "stream",
     "text": [
      "Ritesh's Prasad\n",
      "Type of variable a is   <class 'str'>\n",
      "Type of variable b is   <class 'str'>\n"
     ]
    }
   ],
   "source": [
    "a=\"Ritesh's\"                                        # Here we are using double quotes to represent string .If we use single quote here then we will get error\n",
    "b='Prasad'                                          # Here we are using single quotes to represent string\n",
    "print(a+\" \"+b)\n",
    "print(\"Type of variable a is  \",type(a))\n",
    "print(\"Type of variable b is  \",type(b))"
   ]
  },
  {
   "cell_type": "markdown",
   "metadata": {},
   "source": [
    "**1.3: Lists:   \n",
    "List data type is collection of items .list can contain items of any data type.**"
   ]
  },
  {
   "cell_type": "code",
   "execution_count": 3,
   "metadata": {},
   "outputs": [
    {
     "name": "stdout",
     "output_type": "stream",
     "text": [
      "[1, 2, 3, 4, 5, 'Ritesh']\n",
      "Data Type of [1, 2, 3, 4, 5, 'Ritesh'] is    <class 'list'>\n",
      "[{'A': 'Ritesh'}, 'Rakesh', 23, 56, [22, 23, 'Prasad']]\n",
      "Data Type of [{'A': 'Ritesh'}, 'Rakesh', 23, 56, [22, 23, 'Prasad']] is    <class 'list'>\n"
     ]
    }
   ],
   "source": [
    "list1=[1,2,3,4,5,'Ritesh']                                     # Within list we can add items of any data type \n",
    "list2=[{'A':'Ritesh'},'Rakesh',23,56,[22,23,'Prasad']]         # We can add dictionary,list within list ,integer,string \n",
    "print(list1)\n",
    "print(\"Data Type of {} is   \".format(list1),type(list1))\n",
    "print(list2)\n",
    "print(\"Data Type of {} is   \".format(list2),type(list2))"
   ]
  },
  {
   "cell_type": "markdown",
   "metadata": {},
   "source": [
    "**1.4: Boolean:     \n",
    "Boolean Data Type has Two values True or False**"
   ]
  },
  {
   "cell_type": "code",
   "execution_count": 4,
   "metadata": {},
   "outputs": [
    {
     "name": "stdout",
     "output_type": "stream",
     "text": [
      "False\n",
      "5 is smaller than 10\n"
     ]
    }
   ],
   "source": [
    "a=5\n",
    "b=10\n",
    "print(a>b)\n",
    "if a>b:                                   # Here a> b means 5>10 which is false so else loop will execute\n",
    "    print(\"{} is greater than {}\".format(a,b))\n",
    "else:\n",
    "    print(\"{} is smaller than {}\".format(a,b))"
   ]
  },
  {
   "cell_type": "markdown",
   "metadata": {},
   "source": [
    " \n",
    "Write an equation that uses multiplication, division, an exponent, addition, and subtraction that is equal to 100.25. Use all the mentioned operators in one single equation to produce the result.\n",
    "\n",
    "Hint: This is just to test your memory of the basic arithmetic commands, work backwards from 100.25"
   ]
  },
  {
   "cell_type": "code",
   "execution_count": 5,
   "metadata": {},
   "outputs": [
    {
     "name": "stdout",
     "output_type": "stream",
     "text": [
      "100.25\n"
     ]
    }
   ],
   "source": [
    "#100.25=2*10**2/2+1-0.75\n",
    "print(2*10**2/2+1-0.75)"
   ]
  },
  {
   "cell_type": "markdown",
   "metadata": {},
   "source": [
    "\n",
    "Answer these 3 questions without typing code. Then type code to check your answer.\n",
    "\n",
    "    What is the value of the expression 4 * (6 + 5) =44\n",
    "    \n",
    "    What is the value of the expression 4 * 6 + 5 =29\n",
    "    \n",
    "    What is the value of the expression 4 + 6 * 5 =34"
   ]
  },
  {
   "cell_type": "code",
   "execution_count": 6,
   "metadata": {},
   "outputs": [
    {
     "name": "stdout",
     "output_type": "stream",
     "text": [
      "The value of equation    4 * (6 + 5)   is   44\n",
      "The value of equation    4 * 6 + 5     is   29\n",
      "The value of equation    4 + 6 * 5     is   34\n"
     ]
    }
   ],
   "source": [
    "a=4 * (6 + 5)\n",
    "b=4 * 6 + 5\n",
    "c=4 + 6 * 5                                                          # We are following BODMAS Rule here\n",
    "print(\"The value of equation    4 * (6 + 5)   is  \", a)\n",
    "print(\"The value of equation    4 * 6 + 5     is  \", b)\n",
    "print(\"The value of equation    4 + 6 * 5     is  \", c)"
   ]
  },
  {
   "cell_type": "markdown",
   "metadata": {},
   "source": [
    "\n",
    "\n",
    "#### Question 2.3 : \n",
    "What is the *type* of the result of the expression 3 + 1.5 + 4?<br><br>"
   ]
  },
  {
   "cell_type": "code",
   "execution_count": 7,
   "metadata": {},
   "outputs": [
    {
     "name": "stdout",
     "output_type": "stream",
     "text": [
      "After computation of given expression the output is 8.5 and its type is   <class 'float'>\n"
     ]
    }
   ],
   "source": [
    "b=3 + 1.5 + 4        #using type function we can easily get the type of output we are getting\n",
    "print(\"After computation of given expression the output is {} and its type is  \".format(b),type(b))"
   ]
  },
  {
   "cell_type": "markdown",
   "metadata": {},
   "source": [
    "#### Question 2.4 : \n",
    "What would you use to find a number’s square root, as well as its square? **Important: Do not of import any packages like Math to  solve this question.**"
   ]
  },
  {
   "cell_type": "code",
   "execution_count": 8,
   "metadata": {},
   "outputs": [
    {
     "name": "stdout",
     "output_type": "stream",
     "text": [
      "Square root of num  81  is   9.0\n"
     ]
    }
   ],
   "source": [
    "# Square root:\n",
    "num1=81                                                      \n",
    "#square root of any number can be calculated using number ** (1/2)\n",
    "print(\"Square root of num  {}  is  \".format(num1) , num1**(1/2))"
   ]
  },
  {
   "cell_type": "code",
   "execution_count": 9,
   "metadata": {},
   "outputs": [
    {
     "name": "stdout",
     "output_type": "stream",
     "text": [
      "Square of num  12  is   144\n"
     ]
    }
   ],
   "source": [
    "# Square:\n",
    "\n",
    "num2=12\n",
    "#square of any number can be calculated using number ** 2\n",
    "print(\"Square of num  {}  is  \".format(num2) , num2**2)"
   ]
  },
  {
   "cell_type": "markdown",
   "metadata": {},
   "source": [
    "### Question 3: Strings"
   ]
  },
  {
   "cell_type": "markdown",
   "metadata": {},
   "source": [
    "#### Question 3.1:\n",
    "Given the string 'hello' give an index command that returns 'e'. Enter your code in the cell below:"
   ]
  },
  {
   "cell_type": "code",
   "execution_count": 10,
   "metadata": {},
   "outputs": [
    {
     "name": "stdout",
     "output_type": "stream",
     "text": [
      "e\n"
     ]
    }
   ],
   "source": [
    "s = 'hello'\n",
    "# Print out 'e' using indexing\n",
    "#string indexing start from 0 ,so e will be at index 1 \n",
    "print (s[1])"
   ]
  },
  {
   "cell_type": "markdown",
   "metadata": {},
   "source": [
    "#### Question 3.2:\n",
    "Reverse the string 'hello' using slicing:"
   ]
  },
  {
   "cell_type": "code",
   "execution_count": 11,
   "metadata": {},
   "outputs": [
    {
     "name": "stdout",
     "output_type": "stream",
     "text": [
      "olleh\n"
     ]
    }
   ],
   "source": [
    "s ='hello'\n",
    "# Reverse the string using slicing\n",
    "#last index of string is -1 \n",
    "print(s[::-1])"
   ]
  },
  {
   "cell_type": "markdown",
   "metadata": {},
   "source": [
    "#### Question 3.3:\n",
    "Given the string hello, give two methods of producing the letter 'o' using indexing."
   ]
  },
  {
   "cell_type": "code",
   "execution_count": 12,
   "metadata": {},
   "outputs": [
    {
     "name": "stdout",
     "output_type": "stream",
     "text": [
      "o\n"
     ]
    }
   ],
   "source": [
    "s ='hello'\n",
    "# Print out the 'o'\n",
    "#last index of string is -1 \n",
    "# Method 1:\n",
    "print(s[-1])\n"
   ]
  },
  {
   "cell_type": "code",
   "execution_count": 13,
   "metadata": {},
   "outputs": [
    {
     "name": "stdout",
     "output_type": "stream",
     "text": [
      "o\n"
     ]
    }
   ],
   "source": [
    "# Method 2:\n",
    "# index of string starts with 0 \n",
    "print(s[4])\n"
   ]
  },
  {
   "cell_type": "markdown",
   "metadata": {},
   "source": [
    "### Question 4: Lists"
   ]
  },
  {
   "cell_type": "markdown",
   "metadata": {},
   "source": [
    "#### Question 4.1: \n",
    "Build this list [0,0,0] two separate ways."
   ]
  },
  {
   "cell_type": "code",
   "execution_count": 14,
   "metadata": {},
   "outputs": [
    {
     "name": "stdout",
     "output_type": "stream",
     "text": [
      "[0, 0, 0]\n"
     ]
    }
   ],
   "source": [
    "# Method 1:\n",
    "list1=[0,0,0]\n",
    "print(list1)"
   ]
  },
  {
   "cell_type": "code",
   "execution_count": 15,
   "metadata": {},
   "outputs": [
    {
     "name": "stdout",
     "output_type": "stream",
     "text": [
      "[0, 0, 0]\n"
     ]
    }
   ],
   "source": [
    "# Method 2:\n",
    "list2=[]\n",
    "for i in range(0,3):\n",
    "    list2.append(0)\n",
    "print(list2)"
   ]
  },
  {
   "cell_type": "markdown",
   "metadata": {},
   "source": [
    "#### Question 4.2:\n",
    "Reassign 'hello' in this nested list to say 'goodbye' instead:"
   ]
  },
  {
   "cell_type": "code",
   "execution_count": 16,
   "metadata": {},
   "outputs": [],
   "source": [
    "list3 = [1,2,[3,4,'hello']]"
   ]
  },
  {
   "cell_type": "code",
   "execution_count": 17,
   "metadata": {},
   "outputs": [
    {
     "name": "stdout",
     "output_type": "stream",
     "text": [
      "[1, 2, [3, 4, 'goodbye']]\n"
     ]
    }
   ],
   "source": [
    "# index of list starts from 0 ,so navigate to 'hello' and replace it with 'goodbye'\n",
    "list3[2][2]='goodbye'\n",
    "print(list3)"
   ]
  },
  {
   "cell_type": "markdown",
   "metadata": {},
   "source": [
    "#### Question 4.3:\n",
    "Sort the list below:"
   ]
  },
  {
   "cell_type": "code",
   "execution_count": 18,
   "metadata": {},
   "outputs": [],
   "source": [
    "list4 = [5,3,4,6,1]"
   ]
  },
  {
   "cell_type": "code",
   "execution_count": 19,
   "metadata": {},
   "outputs": [
    {
     "name": "stdout",
     "output_type": "stream",
     "text": [
      "[1, 3, 4, 5, 6]\n"
     ]
    }
   ],
   "source": [
    "list4.sort()      #sort function will sort the given list\n",
    "print(list4)"
   ]
  },
  {
   "cell_type": "markdown",
   "metadata": {},
   "source": [
    "### Question 5: Booleans"
   ]
  },
  {
   "cell_type": "markdown",
   "metadata": {},
   "source": [
    "For the following quiz questions, we will get a preview of comparison operators. In the table below, a=3 and b=4.\n",
    "\n",
    "<table class=\"table table-bordered\">\n",
    "<tr>\n",
    "<th style=\"width:10%\">Operator</th><th style=\"width:45%\">Description</th><th>Example</th>\n",
    "</tr>\n",
    "<tr>\n",
    "<td>==</td>\n",
    "<td>If the values of two operands are equal, then the condition becomes true.</td>\n",
    "<td> (a == b) is not true.</td>\n",
    "</tr>\n",
    "<tr>\n",
    "<td>!=</td>\n",
    "<td>If values of two operands are not equal, then condition becomes true.</td>\n",
    "<td> (a != b) is true.</td>\n",
    "</tr>\n",
    "<tr>\n",
    "<td>&gt;</td>\n",
    "<td>If the value of left operand is greater than the value of right operand, then condition becomes true.</td>\n",
    "<td> (a &gt; b) is not true.</td>\n",
    "</tr>\n",
    "<tr>\n",
    "<td>&lt;</td>\n",
    "<td>If the value of left operand is less than the value of right operand, then condition becomes true.</td>\n",
    "<td> (a &lt; b) is true.</td>\n",
    "</tr>\n",
    "<tr>\n",
    "<td>&gt;=</td>\n",
    "<td>If the value of left operand is greater than or equal to the value of right operand, then condition becomes true.</td>\n",
    "<td> (a &gt;= b) is not true. </td>\n",
    "</tr>\n",
    "<tr>\n",
    "<td>&lt;=</td>\n",
    "<td>If the value of left operand is less than or equal to the value of right operand, then condition becomes true.</td>\n",
    "<td> (a &lt;= b) is true. </td>\n",
    "</tr>\n",
    "</table>"
   ]
  },
  {
   "cell_type": "markdown",
   "metadata": {},
   "source": [
    "### Question 5.1:\n",
    "What will be the resulting Boolean of the following pieces of code (answer fist then check by typing it in!)"
   ]
  },
  {
   "cell_type": "code",
   "execution_count": 20,
   "metadata": {},
   "outputs": [
    {
     "data": {
      "text/plain": [
       "False"
      ]
     },
     "execution_count": 20,
     "metadata": {},
     "output_type": "execute_result"
    }
   ],
   "source": [
    "# Answer before running cell\n",
    "2 > 3 "
   ]
  },
  {
   "cell_type": "code",
   "execution_count": 21,
   "metadata": {},
   "outputs": [
    {
     "data": {
      "text/plain": [
       "False"
      ]
     },
     "execution_count": 21,
     "metadata": {},
     "output_type": "execute_result"
    }
   ],
   "source": [
    "# Answer before running cell\n",
    "3 <= 2"
   ]
  },
  {
   "cell_type": "code",
   "execution_count": 22,
   "metadata": {},
   "outputs": [
    {
     "data": {
      "text/plain": [
       "False"
      ]
     },
     "execution_count": 22,
     "metadata": {},
     "output_type": "execute_result"
    }
   ],
   "source": [
    "# Answer before running cell\n",
    "3 == 2.0"
   ]
  },
  {
   "cell_type": "code",
   "execution_count": 23,
   "metadata": {},
   "outputs": [
    {
     "data": {
      "text/plain": [
       "True"
      ]
     },
     "execution_count": 23,
     "metadata": {},
     "output_type": "execute_result"
    }
   ],
   "source": [
    "# Answer before running cell\n",
    "3.0 == 3"
   ]
  },
  {
   "cell_type": "code",
   "execution_count": 24,
   "metadata": {},
   "outputs": [
    {
     "data": {
      "text/plain": [
       "False"
      ]
     },
     "execution_count": 24,
     "metadata": {},
     "output_type": "execute_result"
    }
   ],
   "source": [
    "# Answer before running cell\n",
    "4**0.5 != 2"
   ]
  },
  {
   "cell_type": "markdown",
   "metadata": {},
   "source": [
    "### Question 5.2:\n",
    "What is the boolean output of the cell block below?\n",
    "\n",
    "**Important:** The code should be well commented, explaining your approach & how you have implemented it."
   ]
  },
  {
   "cell_type": "code",
   "execution_count": 25,
   "metadata": {},
   "outputs": [
    {
     "data": {
      "text/plain": [
       "False"
      ]
     },
     "execution_count": 25,
     "metadata": {},
     "output_type": "execute_result"
    }
   ],
   "source": [
    "# two nested lists\n",
    "l_one = [1,2,[3,4]]  \n",
    "l_two = [1,2,{'k1':4}]\n",
    "\n",
    "# True or False?\n",
    "l_one[2][0] >= l_two[2]['k1']\n",
    "\n",
    "# Output of l_one[2] is [3,4]  so the output for   l_one[2][0] will be 3\n",
    "# Output of l_two[2] is {'k1':4} ,so the output for l_two[2]['k1'] will be value of key 'k1' which is 4\n"
   ]
  },
  {
   "cell_type": "markdown",
   "metadata": {},
   "source": [
    "### Question 6: Programming Assignment\n"
   ]
  },
  {
   "cell_type": "markdown",
   "metadata": {},
   "source": [
    "#### Question 6.1: \n",
    "Find you manager salary ?\n",
    "Let say your HR informed you that your manager is earning double of square of your salary. Can you write python expression to figure out your manager salary? Assume your own salary is Rupees 10,000.\n",
    "\n",
    "**Important** Attempt this question without using loops."
   ]
  },
  {
   "cell_type": "code",
   "execution_count": 26,
   "metadata": {},
   "outputs": [
    {
     "name": "stdout",
     "output_type": "stream",
     "text": [
      "My manager slary is   200000000 Rs\n"
     ]
    }
   ],
   "source": [
    "my_salary=10000\n",
    "manager_salary=(my_salary**2)*2  #my_salary**2 will give  square of my salary and then this will be multipled by 2 to generate double of square of my salary\n",
    "\n",
    "print(\"My manager slary is  \",manager_salary ,\"Rs\")"
   ]
  },
  {
   "cell_type": "markdown",
   "metadata": {},
   "source": [
    "#### Question 6.2:\n",
    "Let say, you have to find out your manager's salary US dollars. Assume, US dollar is 70 Rs INR. Compute your manager's salary in US dollars by writing a python expression. \n",
    "\n",
    "**Important:** The code should be well commented, explaining your approach & how you have implemented it."
   ]
  },
  {
   "cell_type": "code",
   "execution_count": 27,
   "metadata": {},
   "outputs": [
    {
     "name": "stdout",
     "output_type": "stream",
     "text": [
      "My manager slary is   2857142.8571428573 $\n"
     ]
    }
   ],
   "source": [
    "my_salary=10000\n",
    "dollar=70\n",
    "manager_salary=((my_salary**2)*2)/70       #my_salary**2 will give  square of my salary and then this will be multipled by 2 to generate double of square of my salary \n",
    "                                            #and divided by dollar value to compute manager salary in  Dollar\n",
    "\n",
    "print(\"My manager slary is  \",manager_salary ,\"$\")"
   ]
  },
  {
   "cell_type": "markdown",
   "metadata": {},
   "source": [
    "#### Question 6.3:\n",
    "You have to store salaries of 5 employees in a List. Let say, the salaries of those 5 employees are stored in order of their joining date. Now, the employee who joined first (i.e the employee who joined before the other 4 employees) resigned and left the company. And, a new person joins the company with the same salary as the person who resigned. \n",
    "\n",
    "Your manager has asked you to provide him the average salary of all the employees. ( Make sure to use index).\n",
    "\n",
    "Perform all above steps in python.\n",
    "\n",
    "**Important:** The code should be well commented, explaining your approach & how you have implemented it."
   ]
  },
  {
   "cell_type": "code",
   "execution_count": 28,
   "metadata": {},
   "outputs": [
    {
     "name": "stdout",
     "output_type": "stream",
     "text": [
      "Average salary of all the employees is  135355.2\n"
     ]
    }
   ],
   "source": [
    "#lets create a list and store salaries of 5 employee\n",
    "list1=[100000,134555,231111,111111,99999]\n",
    "\n",
    "#now 1st employee left the organization\n",
    "list1.pop(0)\n",
    "#now the list value is list1 [134555, 231111, 111111, 99999]\n",
    "\n",
    "#A new employee joins the organization with salary 100000\n",
    "\n",
    "#As we are maintaining salary according to Date of Joining ,so we will add new employee salary at the end of list \n",
    "list1.append(100000)\n",
    "#now the list value is list1 [134555, 231111, 111111, 99999,100000]\n",
    "#average =sum of items/num of items\n",
    "#Using for loop we call calculate average\n",
    "count=0\n",
    "sum=0\n",
    "avg=0\n",
    "for i in list1:\n",
    "    sum+=i\n",
    "    count+=1\n",
    "avg=sum/count\n",
    "\n",
    "print(\"Average salary of all the employees is \",avg)\n",
    "    "
   ]
  },
  {
   "cell_type": "markdown",
   "metadata": {},
   "source": [
    "#### Question 6.4:\n",
    "Write a python code to return string in reverse with skipping of 1 character and making the first letter of the reversed srting in upper case as shown in the example. You can use the string/word you like.\n",
    "\n",
    "           Example : Ritesh\n",
    "    Desired Output : Hei\n",
    "    "
   ]
  },
  {
   "cell_type": "code",
   "execution_count": 34,
   "metadata": {},
   "outputs": [
    {
     "name": "stdout",
     "output_type": "stream",
     "text": [
      "Hei\n"
     ]
    }
   ],
   "source": [
    "str1=\"Ritesh\"\n",
    "out=str1[::-2]   #this will reverse the string and print character by hopping 2 steps\n",
    "#we can use title function or capitalize function to make first letter upper case\n",
    "print(out.capitalize())"
   ]
  },
  {
   "cell_type": "markdown",
   "metadata": {},
   "source": [
    "## Great Job on your first assessment! "
   ]
  }
 ],
 "metadata": {
  "anaconda-cloud": {},
  "kernelspec": {
   "display_name": "Python 3",
   "language": "python",
   "name": "python3"
  },
  "language_info": {
   "codemirror_mode": {
    "name": "ipython",
    "version": 3
   },
   "file_extension": ".py",
   "mimetype": "text/x-python",
   "name": "python",
   "nbconvert_exporter": "python",
   "pygments_lexer": "ipython3",
   "version": "3.7.6"
  }
 },
 "nbformat": 4,
 "nbformat_minor": 2
}
