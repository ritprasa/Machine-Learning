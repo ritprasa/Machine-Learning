{
 "cells": [
  {
   "cell_type": "markdown",
   "metadata": {},
   "source": [
    "# 1. Guessing Game Challenge\n",
    "\n",
    "Let's use `while` loops to create a guessing game.\n",
    "\n",
    "The Challenge:\n",
    "\n",
    "Write a program that picks a random integer from 1 to 100, and has players guess the number. The rules are:\n",
    "\n",
    "1. If a player's guess is less than 1 or greater than 100, say \"OUT OF BOUNDS\"\n",
    "2. On a player's first turn, if their guess is\n",
    " * within 10 of the number, return \"WARM!\"\n",
    " * further than 10 away from the number, return \"COLD!\"\n",
    "3. On all subsequent turns, if a guess is \n",
    " * closer to the number than the previous guess return \"WARMER!\"\n",
    " * farther from the number than the previous guess, return \"COLDER!\"\n",
    "4. When the player's guess equals the number, tell them they've guessed correctly *and* how many guesses it took!\n",
    "\n",
    "You can try this from scratch, or follow the steps outlined below. A separate Solution notebook has been provided. Good luck!\n"
   ]
  },
  {
   "cell_type": "code",
   "execution_count": 2,
   "metadata": {},
   "outputs": [
    {
     "name": "stdout",
     "output_type": "stream",
     "text": [
      "Random value  41\n",
      "Please guess any number43\n",
      "  WARM!  \n",
      "Please guess any number33\n",
      "  COLDER!  \n",
      "Please guess any number23\n",
      "  COLDER!  \n",
      "Please guess any number41\n",
      "CONGRATAS YOU GUESS CORRECTLY\n"
     ]
    }
   ],
   "source": [
    "import random\n",
    "rand_num=random.randint(1,100)\n",
    "print(\"Random value \",rand_num)\n",
    "list1=[]\n",
    "# Create a while loop where Player will enter his Guess till he/she Guessed correctly\n",
    "while True:\n",
    "    #Take input from user\n",
    "    guess_num=int(input(\"Please guess any number\"))\n",
    "    list1.append(guess_num)\n",
    "    # Player has to Guess a  number between  1 and  100 ,otherwise print : OUT OF BOUNDS \n",
    "    if guess_num <1 or guess_num >100:\n",
    "        print(\"OUT OF BOUND\")\n",
    "        \n",
    "    #If guess equals the number, CONGRATAS YOU GUESS CORRECTLY\n",
    "    elif guess_num ==rand_num:\n",
    "        print(\"CONGRATAS YOU GUESS CORRECTLY\")\n",
    "        break\n",
    "        \n",
    "    else:\n",
    "        #In first turn, if  guess is within 10 of the number, then it is \"WARM!\" ,further than 10 away from the number, then it is \"COLD!\"\n",
    "        if len(list1)==1  and abs(list1[0]-rand_num)<=10 :\n",
    "            print(\"  WARM!  \")\n",
    "        elif len(list1)==1 and abs(list1[0]-rand_num)>10 :\n",
    "            print(\"  COLD!  \")\n",
    "            \n",
    "        #On all subsequent turns, if a guess is closer to the number than the previous guess then it will be\",  \"WARMER!\" ,farther from the number than the previous guess, return \"COLDER!\" \n",
    "        elif len(list1)>1 and abs(rand_num -list1[-2]) > abs(rand_num-list1[-1]):\n",
    "            print(\"  WARMER!  \")\n",
    "        elif len(list1)>1 and abs(rand_num -list1[-2]) < abs(rand_num-list1[-1]):\n",
    "            print(\"  COLDER!  \")"
   ]
  }
 ],
 "metadata": {
  "kernelspec": {
   "display_name": "Python 3",
   "language": "python",
   "name": "python3"
  },
  "language_info": {
   "codemirror_mode": {
    "name": "ipython",
    "version": 3
   },
   "file_extension": ".py",
   "mimetype": "text/x-python",
   "name": "python",
   "nbconvert_exporter": "python",
   "pygments_lexer": "ipython3",
   "version": "3.7.6"
  }
 },
 "nbformat": 4,
 "nbformat_minor": 4
}
