{
 "cells": [
  {
   "cell_type": "markdown",
   "metadata": {},
   "source": [
    "# Functions and Methods\n",
    "\n",
    "Complete the following questions:\n",
    "____\n",
    "**2.1: Write a function that computes the volume of a sphere given its radius.**\n",
    "<p>The volume of a sphere is given as $$\\frac{4}{3} πr^3$$</p>"
   ]
  },
  {
   "cell_type": "code",
   "execution_count": 9,
   "metadata": {},
   "outputs": [],
   "source": [
    "#import math library\n",
    "import math\n",
    "def vol(rad):\n",
    "    \n",
    "#pi is inbuild function under math library\n",
    "    volume=4/3*math.pi*rad**3\n",
    "    return volume"
   ]
  },
  {
   "cell_type": "code",
   "execution_count": 10,
   "metadata": {},
   "outputs": [
    {
     "data": {
      "text/plain": [
       "33.510321638291124"
      ]
     },
     "execution_count": 10,
     "metadata": {},
     "output_type": "execute_result"
    }
   ],
   "source": [
    "# Check\n",
    "vol(2)"
   ]
  },
  {
   "cell_type": "markdown",
   "metadata": {},
   "source": [
    "\n",
    "**2.2: Write a function that checks whether a number is in a given range (inclusive of high and low)**"
   ]
  },
  {
   "cell_type": "code",
   "execution_count": 23,
   "metadata": {},
   "outputs": [],
   "source": [
    "def ran_check(num,low,high):\n",
    "    # in function is used to check if a value is in a given range or not\n",
    "    if num in range(low,high+1):\n",
    "        print(\"{0} is in range between {1} {2} \".format(num,high,low))\n",
    "    else:\n",
    "        print(\"{0} is not in  range between {1}   {2} \".format(num,high,low))"
   ]
  },
  {
   "cell_type": "code",
   "execution_count": 22,
   "metadata": {},
   "outputs": [
    {
     "name": "stdout",
     "output_type": "stream",
     "text": [
      "5 is in range between 7 2 \n"
     ]
    }
   ],
   "source": [
    "# Check\n",
    "ran_check(5,2,7)"
   ]
  },
  {
   "cell_type": "markdown",
   "metadata": {},
   "source": [
    "If you only wanted to return a boolean:"
   ]
  },
  {
   "cell_type": "code",
   "execution_count": 24,
   "metadata": {},
   "outputs": [],
   "source": [
    "def ran_bool(num,low,high):\n",
    "    #Retuen True if num is in given range else return False \n",
    "    if num in range(low,high+1):\n",
    "        return True\n",
    "    else:\n",
    "        return False"
   ]
  },
  {
   "cell_type": "code",
   "execution_count": 25,
   "metadata": {},
   "outputs": [
    {
     "data": {
      "text/plain": [
       "True"
      ]
     },
     "execution_count": 25,
     "metadata": {},
     "output_type": "execute_result"
    }
   ],
   "source": [
    "ran_bool(3,1,10)"
   ]
  },
  {
   "cell_type": "markdown",
   "metadata": {},
   "source": [
    "\n",
    "**2.3: Write a Python function that accepts a string and calculates the number of upper case letters and lower case letters.**\n",
    "\n",
    "    Sample String : 'Hello Mr. Rogers, how are you this fine Tuesday?'\n",
    "    Expected Output : \n",
    "    No. of Upper case characters : 4\n",
    "    No. of Lower case Characters : 33\n",
    "\n",
    "HINT: Two string methods that might prove useful: **.isupper()** and **.islower()**\n",
    "\n",
    "If you feel ambitious, explore the Collections module to solve this problem!"
   ]
  },
  {
   "cell_type": "code",
   "execution_count": 28,
   "metadata": {},
   "outputs": [],
   "source": [
    "def up_low(s):\n",
    "    \n",
    "    count_upper=0\n",
    "    count_lower=0\n",
    "    for i in s:\n",
    "        \n",
    "        #isupper() method is used to check whether the given character is in Uppercase or not.\n",
    "        if i.isupper():\n",
    "           count_upper+=1\n",
    "        \n",
    "        #islower() method is used to check whether the given character is in Lowercase or not.\n",
    "        elif i.islower():\n",
    "           count_lower+=1\n",
    "        \n",
    "        #If we encounter any special character in the given input string then just ignore it \n",
    "        else:\n",
    "           pass\n",
    "    \n",
    "    print (\"Original String : \", s)\n",
    "    print (\"No. of Upper case characters : \", count_upper)\n",
    "    print (\"No. of Lower case Characters : \", count_lower)"
   ]
  },
  {
   "cell_type": "code",
   "execution_count": 29,
   "metadata": {},
   "outputs": [
    {
     "name": "stdout",
     "output_type": "stream",
     "text": [
      "Original String :  Hello Mr. Rogers, how are you this fine Tuesday?\n",
      "No. of Upper case characters :  4\n",
      "No. of Lower case Characters :  33\n"
     ]
    }
   ],
   "source": [
    "s = 'Hello Mr. Rogers, how are you this fine Tuesday?'\n",
    "up_low(s)"
   ]
  },
  {
   "cell_type": "markdown",
   "metadata": {},
   "source": [
    "____\n",
    "**2.4: Write a Python function that takes a list and returns a new list with unique elements of the first list.**\n",
    "\n",
    "    Sample List : [1,1,1,1,2,2,3,3,3,3,4,5]\n",
    "    Unique List : [1, 2, 3, 4, 5]"
   ]
  },
  {
   "cell_type": "code",
   "execution_count": 30,
   "metadata": {},
   "outputs": [],
   "source": [
    "def unique_list(lst):\n",
    "    list1=[]\n",
    "    #set is mathematical function which contains only unique values.\n",
    "    #Converting list to set\n",
    "    set1=set(lst)\n",
    "    #A new list is created using Set\n",
    "    list1=list(set1)\n",
    "    return list1\n",
    "    "
   ]
  },
  {
   "cell_type": "code",
   "execution_count": 31,
   "metadata": {},
   "outputs": [
    {
     "data": {
      "text/plain": [
       "[1, 2, 3, 4, 5]"
      ]
     },
     "execution_count": 31,
     "metadata": {},
     "output_type": "execute_result"
    }
   ],
   "source": [
    "unique_list([1,1,1,1,2,2,3,3,3,3,4,5])"
   ]
  },
  {
   "cell_type": "markdown",
   "metadata": {},
   "source": [
    "____\n",
    "**2.5: Write a Python function to multiply all the numbers in a list.**\n",
    "\n",
    "    Sample List : [1, 2, 3, -4]\n",
    "    Expected Output : -24"
   ]
  },
  {
   "cell_type": "code",
   "execution_count": 32,
   "metadata": {},
   "outputs": [],
   "source": [
    "def multiply(numbers):  \n",
    "    #Define a variable mult=1 and then iterate over list and multiply each number with mult and store it.\n",
    "    mult=1\n",
    "    for i in numbers:\n",
    "        mult*=i\n",
    "    return mult"
   ]
  },
  {
   "cell_type": "code",
   "execution_count": 33,
   "metadata": {},
   "outputs": [
    {
     "data": {
      "text/plain": [
       "-24"
      ]
     },
     "execution_count": 33,
     "metadata": {},
     "output_type": "execute_result"
    }
   ],
   "source": [
    "multiply([1,2,3,-4])"
   ]
  },
  {
   "cell_type": "markdown",
   "metadata": {},
   "source": [
    "____\n",
    "**2.6: Write a Python function that checks whether a passed in string is palindrome or not.**\n",
    "\n",
    "Note: A palindrome is word, phrase, or sequence that reads the same backward as forward, e.g., madam or nurses run."
   ]
  },
  {
   "cell_type": "code",
   "execution_count": 34,
   "metadata": {},
   "outputs": [],
   "source": [
    "def palindrome(s):\n",
    "    list1=[]\n",
    "    list2=[]\n",
    "    for i in s:\n",
    "        \n",
    "        #Iterate over string and store each character in a list\n",
    "        list1.append(i)\n",
    "    \n",
    "    #Iterate over string in reverse and store it in a list\n",
    "    for i in s[::-1]:\n",
    "        list2.append(i)\n",
    "        \n",
    "    #    List1 and list 2 should be equal for the given string to be a palindrome\n",
    "    return list1==list2\n",
    "    "
   ]
  },
  {
   "cell_type": "code",
   "execution_count": 37,
   "metadata": {},
   "outputs": [
    {
     "data": {
      "text/plain": [
       "True"
      ]
     },
     "execution_count": 37,
     "metadata": {},
     "output_type": "execute_result"
    }
   ],
   "source": [
    "palindrome('helleh')"
   ]
  },
  {
   "cell_type": "markdown",
   "metadata": {},
   "source": [
    "____\n",
    "#### Hard:\n",
    "\n",
    "**2.7: Write a Python function to check whether a string is pangram or not.**\n",
    "\n",
    "    Note : Pangrams are words or sentences containing every letter of the alphabet at least once.\n",
    "    For example : \"The quick brown fox jumps over the lazy dog\"\n",
    "\n",
    "Hint: Look at the string module"
   ]
  },
  {
   "cell_type": "code",
   "execution_count": 3,
   "metadata": {},
   "outputs": [],
   "source": [
    "\"\"\"\n",
    "\n",
    "#We can check whether each character of English alphabet is present in given input string.we can iterate over a to z using its ascii value.\n",
    "#ord() function is used to get the ascii value of any character.\n",
    "\n",
    "import string\n",
    "def ispangram(str1, alphabet=string.ascii_lowercase):\n",
    "    for i in range(ord('a'),ord('z')+1):\n",
    "        print (chr(i))\n",
    "        if chr(i) not in str1.lower():\n",
    "            return False\n",
    "        \n",
    "    return True\n",
    "\"\"\"\n",
    "\n",
    "\"\"\"We can use the logic here that if a string is palagram then it must contain alphabet a to z so count of character in given string and\n",
    "    total character in English alphabet should be same\n",
    "    \n",
    "    Given string may contain duplicates character so we have to count only unique characters so we can use set function.\"\"\" \n",
    "import string\n",
    "def ispangram(str1, alphabet=string.ascii_lowercase):\n",
    "    alpha = set(alphabet) \n",
    "    #print(alpha)\n",
    "    a=set(str1.lower()) \n",
    "    #print(a)\n",
    "    if a>=alpha:\n",
    "        print(\"True\")\n",
    "    else:\n",
    "        print(\"false\")"
   ]
  },
  {
   "cell_type": "code",
   "execution_count": 4,
   "metadata": {},
   "outputs": [
    {
     "name": "stdout",
     "output_type": "stream",
     "text": [
      "True\n"
     ]
    }
   ],
   "source": [
    "ispangram(\"The quick brown fox jumps over the lazy dog\")"
   ]
  }
 ],
 "metadata": {
  "kernelspec": {
   "display_name": "Python 3",
   "language": "python",
   "name": "python3"
  },
  "language_info": {
   "codemirror_mode": {
    "name": "ipython",
    "version": 3
   },
   "file_extension": ".py",
   "mimetype": "text/x-python",
   "name": "python",
   "nbconvert_exporter": "python",
   "pygments_lexer": "ipython3",
   "version": "3.7.6"
  }
 },
 "nbformat": 4,
 "nbformat_minor": 4
}
